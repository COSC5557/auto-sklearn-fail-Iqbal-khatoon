{
  "nbformat": 4,
  "nbformat_minor": 0,
  "metadata": {
    "colab": {
      "provenance": []
    },
    "kernelspec": {
      "name": "python3",
      "display_name": "Python 3"
    },
    "language_info": {
      "name": "python"
    }
  },
  "cells": [
    {
      "cell_type": "code",
      "execution_count": 1,
      "metadata": {
        "colab": {
          "base_uri": "https://localhost:8080/"
        },
        "id": "6bo5-VmCKlZn",
        "outputId": "6f4ecb34-c964-4f61-f2f5-6d884f73062c"
      },
      "outputs": [
        {
          "output_type": "stream",
          "name": "stdout",
          "text": [
            "Collecting git+https://github.com/Frankothe196/auto-sklearn.git@python3.10-added-compatibility\n",
            "  Cloning https://github.com/Frankothe196/auto-sklearn.git (to revision python3.10-added-compatibility) to /tmp/pip-req-build-1emym9l2\n",
            "  Running command git clone --filter=blob:none --quiet https://github.com/Frankothe196/auto-sklearn.git /tmp/pip-req-build-1emym9l2\n",
            "  Running command git checkout -b python3.10-added-compatibility --track origin/python3.10-added-compatibility\n",
            "  Switched to a new branch 'python3.10-added-compatibility'\n",
            "  Branch 'python3.10-added-compatibility' set up to track remote branch 'python3.10-added-compatibility' from 'origin'.\n",
            "  Resolved https://github.com/Frankothe196/auto-sklearn.git to commit 80a575760e99945fa31970b1479edeb759bc645a\n",
            "  Running command git submodule update --init --recursive -q\n",
            "  Installing build dependencies ... \u001b[?25l\u001b[?25hdone\n",
            "  Getting requirements to build wheel ... \u001b[?25l\u001b[?25hdone\n",
            "  Preparing metadata (pyproject.toml) ... \u001b[?25l\u001b[?25hdone\n",
            "Requirement already satisfied: setuptools in /usr/local/lib/python3.10/dist-packages (from auto-sklearn==0.16.0.dev0) (67.7.2)\n",
            "Requirement already satisfied: typing-extensions in /usr/local/lib/python3.10/dist-packages (from auto-sklearn==0.16.0.dev0) (4.11.0)\n",
            "Requirement already satisfied: distro in /usr/lib/python3/dist-packages (from auto-sklearn==0.16.0.dev0) (1.7.0)\n",
            "Requirement already satisfied: numpy>=1.9.0 in /usr/local/lib/python3.10/dist-packages (from auto-sklearn==0.16.0.dev0) (1.25.2)\n",
            "Requirement already satisfied: scipy>=1.7.0 in /usr/local/lib/python3.10/dist-packages (from auto-sklearn==0.16.0.dev0) (1.11.4)\n",
            "Requirement already satisfied: joblib in /usr/local/lib/python3.10/dist-packages (from auto-sklearn==0.16.0.dev0) (1.4.0)\n",
            "Requirement already satisfied: scikit-learn in /usr/local/lib/python3.10/dist-packages (from auto-sklearn==0.16.0.dev0) (1.2.2)\n",
            "Requirement already satisfied: dask>=2021.12 in /usr/local/lib/python3.10/dist-packages (from auto-sklearn==0.16.0.dev0) (2023.8.1)\n",
            "Requirement already satisfied: distributed>=2012.12 in /usr/local/lib/python3.10/dist-packages (from auto-sklearn==0.16.0.dev0) (2023.8.1)\n",
            "Requirement already satisfied: pyyaml in /usr/local/lib/python3.10/dist-packages (from auto-sklearn==0.16.0.dev0) (6.0.1)\n",
            "Requirement already satisfied: pandas>=1.0 in /usr/local/lib/python3.10/dist-packages (from auto-sklearn==0.16.0.dev0) (2.0.3)\n",
            "Collecting liac-arff (from auto-sklearn==0.16.0.dev0)\n",
            "  Downloading liac-arff-2.5.0.tar.gz (13 kB)\n",
            "  Preparing metadata (setup.py) ... \u001b[?25l\u001b[?25hdone\n",
            "Requirement already satisfied: threadpoolctl in /usr/local/lib/python3.10/dist-packages (from auto-sklearn==0.16.0.dev0) (3.5.0)\n",
            "Requirement already satisfied: tqdm in /usr/local/lib/python3.10/dist-packages (from auto-sklearn==0.16.0.dev0) (4.66.2)\n",
            "Collecting ConfigSpace<0.5,>=0.4.21 (from auto-sklearn==0.16.0.dev0)\n",
            "  Downloading ConfigSpace-0.4.21-cp310-cp310-manylinux_2_17_x86_64.manylinux2014_x86_64.whl (4.8 MB)\n",
            "\u001b[2K     \u001b[90m━━━━━━━━━━━━━━━━━━━━━━━━━━━━━━━━━━━━━━━━\u001b[0m \u001b[32m4.8/4.8 MB\u001b[0m \u001b[31m16.0 MB/s\u001b[0m eta \u001b[36m0:00:00\u001b[0m\n",
            "\u001b[?25hCollecting pynisher<0.7,>=0.6.3 (from auto-sklearn==0.16.0.dev0)\n",
            "  Downloading pynisher-0.6.4.tar.gz (11 kB)\n",
            "  Preparing metadata (setup.py) ... \u001b[?25l\u001b[?25hdone\n",
            "Collecting pyrfr<0.9,>=0.8.1 (from auto-sklearn==0.16.0.dev0)\n",
            "  Downloading pyrfr-0.8.3-cp310-cp310-manylinux_2_17_x86_64.manylinux2014_x86_64.whl (4.5 MB)\n",
            "\u001b[2K     \u001b[90m━━━━━━━━━━━━━━━━━━━━━━━━━━━━━━━━━━━━━━━━\u001b[0m \u001b[32m4.5/4.5 MB\u001b[0m \u001b[31m54.3 MB/s\u001b[0m eta \u001b[36m0:00:00\u001b[0m\n",
            "\u001b[?25hCollecting smac<1.3,>=1.2 (from auto-sklearn==0.16.0.dev0)\n",
            "  Downloading smac-1.2.tar.gz (260 kB)\n",
            "\u001b[2K     \u001b[90m━━━━━━━━━━━━━━━━━━━━━━━━━━━━━━━━━━━━━━━━\u001b[0m \u001b[32m260.9/260.9 kB\u001b[0m \u001b[31m25.5 MB/s\u001b[0m eta \u001b[36m0:00:00\u001b[0m\n",
            "\u001b[?25h  Preparing metadata (setup.py) ... \u001b[?25l\u001b[?25hdone\n",
            "Requirement already satisfied: cython in /usr/local/lib/python3.10/dist-packages (from ConfigSpace<0.5,>=0.4.21->auto-sklearn==0.16.0.dev0) (3.0.10)\n",
            "Requirement already satisfied: pyparsing in /usr/local/lib/python3.10/dist-packages (from ConfigSpace<0.5,>=0.4.21->auto-sklearn==0.16.0.dev0) (3.1.2)\n",
            "Requirement already satisfied: click>=8.0 in /usr/local/lib/python3.10/dist-packages (from dask>=2021.12->auto-sklearn==0.16.0.dev0) (8.1.7)\n",
            "Requirement already satisfied: cloudpickle>=1.5.0 in /usr/local/lib/python3.10/dist-packages (from dask>=2021.12->auto-sklearn==0.16.0.dev0) (2.2.1)\n",
            "Requirement already satisfied: fsspec>=2021.09.0 in /usr/local/lib/python3.10/dist-packages (from dask>=2021.12->auto-sklearn==0.16.0.dev0) (2023.6.0)\n",
            "Requirement already satisfied: packaging>=20.0 in /usr/local/lib/python3.10/dist-packages (from dask>=2021.12->auto-sklearn==0.16.0.dev0) (24.0)\n",
            "Requirement already satisfied: partd>=1.2.0 in /usr/local/lib/python3.10/dist-packages (from dask>=2021.12->auto-sklearn==0.16.0.dev0) (1.4.1)\n",
            "Requirement already satisfied: toolz>=0.10.0 in /usr/local/lib/python3.10/dist-packages (from dask>=2021.12->auto-sklearn==0.16.0.dev0) (0.12.1)\n",
            "Requirement already satisfied: importlib-metadata>=4.13.0 in /usr/local/lib/python3.10/dist-packages (from dask>=2021.12->auto-sklearn==0.16.0.dev0) (7.1.0)\n",
            "Requirement already satisfied: jinja2>=2.10.3 in /usr/local/lib/python3.10/dist-packages (from distributed>=2012.12->auto-sklearn==0.16.0.dev0) (3.1.3)\n",
            "Requirement already satisfied: locket>=1.0.0 in /usr/local/lib/python3.10/dist-packages (from distributed>=2012.12->auto-sklearn==0.16.0.dev0) (1.0.0)\n",
            "Requirement already satisfied: msgpack>=1.0.0 in /usr/local/lib/python3.10/dist-packages (from distributed>=2012.12->auto-sklearn==0.16.0.dev0) (1.0.8)\n",
            "Requirement already satisfied: psutil>=5.7.2 in /usr/local/lib/python3.10/dist-packages (from distributed>=2012.12->auto-sklearn==0.16.0.dev0) (5.9.5)\n",
            "Requirement already satisfied: sortedcontainers>=2.0.5 in /usr/local/lib/python3.10/dist-packages (from distributed>=2012.12->auto-sklearn==0.16.0.dev0) (2.4.0)\n",
            "Requirement already satisfied: tblib>=1.6.0 in /usr/local/lib/python3.10/dist-packages (from distributed>=2012.12->auto-sklearn==0.16.0.dev0) (3.0.0)\n",
            "Requirement already satisfied: tornado>=6.0.4 in /usr/local/lib/python3.10/dist-packages (from distributed>=2012.12->auto-sklearn==0.16.0.dev0) (6.3.3)\n",
            "Requirement already satisfied: urllib3>=1.24.3 in /usr/local/lib/python3.10/dist-packages (from distributed>=2012.12->auto-sklearn==0.16.0.dev0) (2.0.7)\n",
            "Requirement already satisfied: zict>=2.2.0 in /usr/local/lib/python3.10/dist-packages (from distributed>=2012.12->auto-sklearn==0.16.0.dev0) (3.0.0)\n",
            "Requirement already satisfied: python-dateutil>=2.8.2 in /usr/local/lib/python3.10/dist-packages (from pandas>=1.0->auto-sklearn==0.16.0.dev0) (2.8.2)\n",
            "Requirement already satisfied: pytz>=2020.1 in /usr/local/lib/python3.10/dist-packages (from pandas>=1.0->auto-sklearn==0.16.0.dev0) (2023.4)\n",
            "Requirement already satisfied: tzdata>=2022.1 in /usr/local/lib/python3.10/dist-packages (from pandas>=1.0->auto-sklearn==0.16.0.dev0) (2024.1)\n",
            "Collecting emcee>=3.0.0 (from smac<1.3,>=1.2->auto-sklearn==0.16.0.dev0)\n",
            "  Downloading emcee-3.1.6-py2.py3-none-any.whl (47 kB)\n",
            "\u001b[2K     \u001b[90m━━━━━━━━━━━━━━━━━━━━━━━━━━━━━━━━━━━━━━━━\u001b[0m \u001b[32m47.4/47.4 kB\u001b[0m \u001b[31m2.8 MB/s\u001b[0m eta \u001b[36m0:00:00\u001b[0m\n",
            "\u001b[?25hRequirement already satisfied: zipp>=0.5 in /usr/local/lib/python3.10/dist-packages (from importlib-metadata>=4.13.0->dask>=2021.12->auto-sklearn==0.16.0.dev0) (3.18.1)\n",
            "Requirement already satisfied: MarkupSafe>=2.0 in /usr/local/lib/python3.10/dist-packages (from jinja2>=2.10.3->distributed>=2012.12->auto-sklearn==0.16.0.dev0) (2.1.5)\n",
            "Requirement already satisfied: six>=1.5 in /usr/local/lib/python3.10/dist-packages (from python-dateutil>=2.8.2->pandas>=1.0->auto-sklearn==0.16.0.dev0) (1.16.0)\n",
            "Building wheels for collected packages: auto-sklearn, pynisher, smac, liac-arff\n",
            "  Building wheel for auto-sklearn (pyproject.toml) ... \u001b[?25l\u001b[?25hdone\n",
            "  Created wheel for auto-sklearn: filename=auto_sklearn-0.16.0.dev0-py3-none-any.whl size=6847472 sha256=d61eb32da325e36b18c85674b629df13b5ccbe1b8225055fc9783d9b81a2708a\n",
            "  Stored in directory: /tmp/pip-ephem-wheel-cache-26i29uuy/wheels/b2/a5/36/69585487bc52484f01b9a841fbcd250f9330709973a8f5caef\n",
            "  Building wheel for pynisher (setup.py) ... \u001b[?25l\u001b[?25hdone\n",
            "  Created wheel for pynisher: filename=pynisher-0.6.4-py3-none-any.whl size=7026 sha256=da902e1c72a672432c81818bc05dc20c9bf42a6cbad9b45d628cc50baa67d9a4\n",
            "  Stored in directory: /root/.cache/pip/wheels/90/7b/53/b21d6b41910f43c7f1557262e579598f83e75e44c659c1bcce\n",
            "  Building wheel for smac (setup.py) ... \u001b[?25l\u001b[?25hdone\n",
            "  Created wheel for smac: filename=smac-1.2-py3-none-any.whl size=215908 sha256=d1561f27312bdd25101c76e9228a511266def267a746427582d08bf197432798\n",
            "  Stored in directory: /root/.cache/pip/wheels/66/2e/d9/2db14bdfcdc36bf12e202b44201df03f194367fcfd85ce2778\n",
            "  Building wheel for liac-arff (setup.py) ... \u001b[?25l\u001b[?25hdone\n",
            "  Created wheel for liac-arff: filename=liac_arff-2.5.0-py3-none-any.whl size=11716 sha256=8b33b6659f1c3e96df0585e699f890b2c4abd72f6f755c2d9a7b2a91624558a3\n",
            "  Stored in directory: /root/.cache/pip/wheels/5d/2a/9c/3895d9617f8f49a0883ba686326d598e78a1c2f54fe3cae86d\n",
            "Successfully built auto-sklearn pynisher smac liac-arff\n",
            "Installing collected packages: pyrfr, pynisher, liac-arff, emcee, ConfigSpace, smac, auto-sklearn\n",
            "Successfully installed ConfigSpace-0.4.21 auto-sklearn-0.16.0.dev0 emcee-3.1.6 liac-arff-2.5.0 pynisher-0.6.4 pyrfr-0.8.3 smac-1.2\n"
          ]
        }
      ],
      "source": [
        "!pip install git+https://github.com/Frankothe196/auto-sklearn.git@python3.10-added-compatibility"
      ]
    },
    {
      "cell_type": "code",
      "source": [
        "import sklearn.model_selection\n",
        "from sklearn.datasets import fetch_openml\n",
        "import sklearn.metrics\n",
        "from sklearn.ensemble import RandomForestClassifier\n",
        "from sklearn.preprocessing import OneHotEncoder\n",
        "\n",
        "X, y = fetch_openml(data_id=40691, as_frame=True, return_X_y=True)\n",
        "\n",
        "X_train, X_test, y_train, y_test = sklearn.model_selection.train_test_split(X, y, random_state=42)"
      ],
      "metadata": {
        "colab": {
          "base_uri": "https://localhost:8080/"
        },
        "id": "lNhN4jK8MCrk",
        "outputId": "7bf15efe-f7c1-4efe-a699-ec1c494e5ae0"
      },
      "execution_count": 2,
      "outputs": [
        {
          "output_type": "stream",
          "name": "stderr",
          "text": [
            "/usr/local/lib/python3.10/dist-packages/sklearn/datasets/_openml.py:968: FutureWarning: The default value of `parser` will change from `'liac-arff'` to `'auto'` in 1.4. You can set `parser='auto'` to silence this warning. Therefore, an `ImportError` will be raised from 1.4 if the dataset is dense and pandas is not installed. Note that the pandas parser may return different data types. See the Notes Section in fetch_openml's API doc for details.\n",
            "  warn(\n"
          ]
        }
      ]
    },
    {
      "cell_type": "code",
      "source": [
        "clf = RandomForestClassifier(random_state=42)\n",
        "clf = clf.fit(X_train, y_train)\n",
        "y_hat = clf.predict(X_test)\n",
        "print(\"RF Accuracy\", sklearn.metrics.accuracy_score(y_test, y_hat))"
      ],
      "metadata": {
        "colab": {
          "base_uri": "https://localhost:8080/"
        },
        "id": "4WCn00Z_MKs8",
        "outputId": "6585c681-b914-4485-d44a-699333954046"
      },
      "execution_count": 3,
      "outputs": [
        {
          "output_type": "stream",
          "name": "stdout",
          "text": [
            "RF Accuracy 0.67\n"
          ]
        }
      ]
    },
    {
      "cell_type": "code",
      "source": [
        "from autosklearn.classification import AutoSklearnClassifier\n",
        "\n",
        "automl = AutoSklearnClassifier(time_left_for_this_task=300)\n",
        "automl.fit(X_train, y_train)\n",
        "y_hat = automl.predict(X_test)\n",
        "print(\"AutoML Accuracy\", sklearn.metrics.accuracy_score(y_test, y_hat))"
      ],
      "metadata": {
        "colab": {
          "base_uri": "https://localhost:8080/"
        },
        "id": "W6dpG4gXMNaK",
        "outputId": "24bf90c4-cd49-426d-8095-df3052726462"
      },
      "execution_count": 4,
      "outputs": [
        {
          "output_type": "stream",
          "name": "stderr",
          "text": [
            "\rFitting to the training data:   0%|\u001b[32m          \u001b[0m| 0/300 [00:00<?, ?it/s, The total time budget for this task is 0:05:00]/usr/local/lib/python3.10/dist-packages/autosklearn/data/target_validator.py:187: UserWarning: Fitting transformer with a pandas series which has the dtype category. Inverse transform may not be able preserve dtype when converting to np.ndarray\n",
            "  warnings.warn(\n",
            "Fitting to the training data: 100%|\u001b[32m██████████\u001b[0m| 300/300 [04:52<00:00,  1.03it/s, The total time budget for this task is 0:05:00]\n"
          ]
        },
        {
          "output_type": "stream",
          "name": "stdout",
          "text": [
            "AutoML Accuracy 0.65\n"
          ]
        }
      ]
    },
    {
      "cell_type": "markdown",
      "source": [
        "### Kfold to prevent overfitting."
      ],
      "metadata": {
        "id": "1L8liMTQPGEQ"
      }
    },
    {
      "cell_type": "code",
      "source": [
        "from autosklearn.classification import AutoSklearnClassifier\n",
        "from sklearn.model_selection import StratifiedKFold\n",
        "\n",
        "# Define the cross-validation strategy\n",
        "cv = StratifiedKFold(n_splits=5, shuffle=True, random_state=42)\n",
        "\n",
        "# Initialize the AutoSklearnClassifier with the defined cross-validation strategy\n",
        "automl = AutoSklearnClassifier(\n",
        "    time_left_for_this_task=300,\n",
        "    resampling_strategy='cv',\n",
        "    resampling_strategy_arguments={'folds': 5}\n",
        ")\n",
        "\n",
        "automl.fit(X_train, y_train)\n",
        "\n",
        "y_hat = automl.predict(X_test)\n",
        "print(\"AutoML Accuracy\", sklearn.metrics.accuracy_score(y_test, y_hat))"
      ],
      "metadata": {
        "id": "jJ3AQ8pmJqe4",
        "colab": {
          "base_uri": "https://localhost:8080/"
        },
        "outputId": "7519e192-0416-46fb-a3d7-2684ade76a16"
      },
      "execution_count": 5,
      "outputs": [
        {
          "output_type": "stream",
          "name": "stderr",
          "text": [
            "\rFitting to the training data:   0%|\u001b[32m          \u001b[0m| 0/300 [00:00<?, ?it/s, The total time budget for this task is 0:05:00]/usr/local/lib/python3.10/dist-packages/autosklearn/data/target_validator.py:187: UserWarning: Fitting transformer with a pandas series which has the dtype category. Inverse transform may not be able preserve dtype when converting to np.ndarray\n",
            "  warnings.warn(\n",
            "Fitting to the training data: 100%|\u001b[32m██████████\u001b[0m| 300/300 [04:55<00:00,  1.02it/s, The total time budget for this task is 0:05:00]\n"
          ]
        },
        {
          "output_type": "stream",
          "name": "stdout",
          "text": [
            "AutoML Accuracy 0.6825\n"
          ]
        }
      ]
    },
    {
      "cell_type": "code",
      "source": [
        "automl = AutoSklearnClassifier(\n",
        "    time_left_for_this_task=300,\n",
        "    resampling_strategy='cv',\n",
        "    resampling_strategy_arguments={'folds': 5},\n",
        "    ensemble_size=10,  # Example of tuning ensemble size\n",
        "    seed=42  # Set seed for reproducibility\n",
        ")\n",
        "automl.fit(X_train, y_train)\n",
        "\n",
        "y_hat = automl.predict(X_test)\n",
        "print(\"AutoML Accuracy\", sklearn.metrics.accuracy_score(y_test, y_hat))"
      ],
      "metadata": {
        "colab": {
          "base_uri": "https://localhost:8080/"
        },
        "id": "M90TfklTlIFM",
        "outputId": "745c32ab-0818-4c4a-d61d-073e59fdf01d"
      },
      "execution_count": 18,
      "outputs": [
        {
          "output_type": "stream",
          "name": "stderr",
          "text": [
            "<ipython-input-18-276b1d3e0926>:1: DeprecationWarning: `ensemble_size` has been deprecated, please use `ensemble_kwargs = {'ensemble_size': 10}`. Inserting `ensemble_size` into `ensemble_kwargs` for now. `ensemble_size` will be removed in auto-sklearn 0.16.\n",
            "  automl = AutoSklearnClassifier(\n",
            "Fitting to the training data:   0%|\u001b[32m          \u001b[0m| 0/300 [00:00<?, ?it/s, The total time budget for this task is 0:05:00]/usr/local/lib/python3.10/dist-packages/autosklearn/data/target_validator.py:187: UserWarning: Fitting transformer with a pandas series which has the dtype category. Inverse transform may not be able preserve dtype when converting to np.ndarray\n",
            "  warnings.warn(\n",
            "Fitting to the training data: 100%|\u001b[32m██████████\u001b[0m| 300/300 [04:53<00:00,  1.02it/s, The total time budget for this task is 0:05:00]\n"
          ]
        },
        {
          "output_type": "stream",
          "name": "stdout",
          "text": [
            "AutoML Accuracy 0.6775\n"
          ]
        }
      ]
    },
    {
      "cell_type": "markdown",
      "source": [
        "### Increase time to 600 seconds (10 minutes)"
      ],
      "metadata": {
        "id": "3Ap-ZOvtR7SF"
      }
    },
    {
      "cell_type": "code",
      "source": [
        "from autosklearn.classification import AutoSklearnClassifier\n",
        "\n",
        "# Increase time to 600 seconds (10 minutes)\n",
        "automl = AutoSklearnClassifier(time_left_for_this_task=600)\n",
        "automl.fit(X_train, y_train)\n",
        "y_hat = automl.predict(X_test)\n",
        "print(\"AutoML Accuracy (with increased time):\", sklearn.metrics.accuracy_score(y_test, y_hat))\n"
      ],
      "metadata": {
        "colab": {
          "base_uri": "https://localhost:8080/"
        },
        "id": "tHrPa4MUPNJi",
        "outputId": "1f670299-02d1-481c-f45f-04ed0ca49d78"
      },
      "execution_count": 6,
      "outputs": [
        {
          "output_type": "stream",
          "name": "stderr",
          "text": [
            "\rFitting to the training data:   0%|\u001b[32m          \u001b[0m| 0/600 [00:00<?, ?it/s, The total time budget for this task is 0:10:00]/usr/local/lib/python3.10/dist-packages/autosklearn/data/target_validator.py:187: UserWarning: Fitting transformer with a pandas series which has the dtype category. Inverse transform may not be able preserve dtype when converting to np.ndarray\n",
            "  warnings.warn(\n",
            "Fitting to the training data: 100%|\u001b[32m██████████\u001b[0m| 600/600 [09:56<00:00,  1.01it/s, The total time budget for this task is 0:10:00]\n"
          ]
        },
        {
          "output_type": "stream",
          "name": "stdout",
          "text": [
            "AutoML Accuracy (with increased time): 0.6575\n"
          ]
        }
      ]
    },
    {
      "cell_type": "code",
      "source": [
        "from autosklearn.classification import AutoSklearnClassifier\n",
        "from autosklearn.metrics import accuracy\n",
        "\n",
        "# Tune configuration by experimenting with different options\n",
        "automl = AutoSklearnClassifier(\n",
        "    time_left_for_this_task=300,\n",
        "    ensemble_size=10,  # Example of tuning ensemble size\n",
        "    metric=accuracy,\n",
        "    n_jobs=-1,  # Utilize all available CPU cores\n",
        "    seed=42  # Set seed for reproducibility\n",
        ")\n",
        "automl.fit(X_train, y_train)\n",
        "y_hat = automl.predict(X_test)\n",
        "print(\"AutoML Accuracy (with tuned configuration):\", sklearn.metrics.accuracy_score(y_test, y_hat))\n"
      ],
      "metadata": {
        "colab": {
          "base_uri": "https://localhost:8080/"
        },
        "id": "wf7qxeelL7l1",
        "outputId": "ba3391e0-b934-4311-ddb5-fe7a96ed4037"
      },
      "execution_count": 7,
      "outputs": [
        {
          "output_type": "stream",
          "name": "stderr",
          "text": [
            "<ipython-input-7-5399dc6f07c9>:5: DeprecationWarning: `ensemble_size` has been deprecated, please use `ensemble_kwargs = {'ensemble_size': 10}`. Inserting `ensemble_size` into `ensemble_kwargs` for now. `ensemble_size` will be removed in auto-sklearn 0.16.\n",
            "  automl = AutoSklearnClassifier(\n",
            "/usr/local/lib/python3.10/dist-packages/autosklearn/data/target_validator.py:187: UserWarning: Fitting transformer with a pandas series which has the dtype category. Inverse transform may not be able preserve dtype when converting to np.ndarray\n",
            "  warnings.warn(\n",
            "Fitting to the training data: 100%|\u001b[32m██████████\u001b[0m| 300/300 [04:54<00:00,  1.02it/s, The total time budget for this task is 0:05:00]\n"
          ]
        },
        {
          "output_type": "stream",
          "name": "stdout",
          "text": [
            "AutoML Accuracy (with tuned configuration): 0.6525\n"
          ]
        }
      ]
    },
    {
      "cell_type": "code",
      "source": [
        "from autosklearn.classification import AutoSklearnClassifier\n",
        "from autosklearn.metrics import accuracy\n",
        "from sklearn.model_selection import RandomizedSearchCV\n",
        "from scipy.stats import randint\n",
        "\n",
        "# Define custom hyperparameter search space\n",
        "hyperparameters = {\n",
        "    'classifier:__choice__': ['random_forest', 'extra_trees'],\n",
        "    'classifier:random_forest:max_depth': randint(2, 32),\n",
        "    'classifier:extra_trees:max_depth': randint(2, 32),\n",
        "}\n",
        "\n",
        "# Perform hyperparameter optimization\n",
        "automl = AutoSklearnClassifier(\n",
        "    time_left_for_this_task=300,\n",
        "    ensemble_size=10,\n",
        "    metric=accuracy,\n",
        "    n_jobs=-1,\n",
        "    seed=42,\n",
        "    # include_estimators=['random_forest', 'extra_trees'],  # Limit to specified estimators\n",
        "    # exclude_estimators=None,  # Exclude no estimators\n",
        "    # include_preprocessors=None,  # Include all preprocessors\n",
        "    # exclude_preprocessors=None,  # Exclude no preprocessors\n",
        "    initial_configurations_via_metalearning=0,  # Disable meta-learning\n",
        "    smac_scenario_args={'runcount_limit': 50},  # Increase number of SMAC runs\n",
        "    resampling_strategy='holdout',  # Use holdout validation\n",
        "    resampling_strategy_arguments={'train_size': 0.8}  # Specify train/validation split ratio\n",
        ")\n",
        "\n",
        "automl.fit(X_train, y_train)\n",
        "y_hat = automl.predict(X_test)\n",
        "print(\"AutoML Accuracy (with hyperparameter optimization):\", sklearn.metrics.accuracy_score(y_test, y_hat))\n"
      ],
      "metadata": {
        "colab": {
          "base_uri": "https://localhost:8080/"
        },
        "id": "2P92YELtSeGu",
        "outputId": "114f726f-0d0f-486f-ff23-f96d7c15b56a"
      },
      "execution_count": 12,
      "outputs": [
        {
          "output_type": "stream",
          "name": "stderr",
          "text": [
            "<ipython-input-12-8fabadd9e9cc>:14: DeprecationWarning: `ensemble_size` has been deprecated, please use `ensemble_kwargs = {'ensemble_size': 10}`. Inserting `ensemble_size` into `ensemble_kwargs` for now. `ensemble_size` will be removed in auto-sklearn 0.16.\n",
            "  automl = AutoSklearnClassifier(\n",
            "/usr/local/lib/python3.10/dist-packages/autosklearn/data/target_validator.py:187: UserWarning: Fitting transformer with a pandas series which has the dtype category. Inverse transform may not be able preserve dtype when converting to np.ndarray\n",
            "  warnings.warn(\n",
            "Fitting to the training data: 100%|\u001b[32m██████████\u001b[0m| 300/300 [04:56<00:00,  1.01it/s, The total time budget for this task is 0:05:00]\n"
          ]
        },
        {
          "output_type": "stream",
          "name": "stdout",
          "text": [
            "AutoML Accuracy (with hyperparameter optimization): 0.6325\n"
          ]
        }
      ]
    },
    {
      "cell_type": "code",
      "source": [
        "from sklearn.model_selection import cross_val_score\n",
        "\n",
        "# Perform cross-validation with auto-sklearn\n",
        "cv_scores = cross_val_score(automl, X, y, cv=5)  # 5-fold cross-validation\n",
        "print(\"Cross-Validation Scores:\", cv_scores)\n",
        "print(\"Mean CV Accuracy:\", cv_scores.mean())\n"
      ],
      "metadata": {
        "colab": {
          "base_uri": "https://localhost:8080/"
        },
        "id": "xUGucpTOXp_U",
        "outputId": "b6b82fc4-38e0-4910-dc52-e81be1defc00"
      },
      "execution_count": 13,
      "outputs": [
        {
          "output_type": "stream",
          "name": "stderr",
          "text": [
            "/usr/local/lib/python3.10/dist-packages/autosklearn/data/target_validator.py:187: UserWarning: Fitting transformer with a pandas series which has the dtype category. Inverse transform may not be able preserve dtype when converting to np.ndarray\n",
            "  warnings.warn(\n",
            "Fitting to the training data: 100%|\u001b[32m██████████\u001b[0m| 300/300 [04:55<00:00,  1.01it/s, The total time budget for this task is 0:05:00]\n",
            "/usr/local/lib/python3.10/dist-packages/autosklearn/data/target_validator.py:187: UserWarning: Fitting transformer with a pandas series which has the dtype category. Inverse transform may not be able preserve dtype when converting to np.ndarray\n",
            "  warnings.warn(\n",
            "Fitting to the training data: 100%|\u001b[32m██████████\u001b[0m| 300/300 [04:55<00:00,  1.01it/s, The total time budget for this task is 0:05:00]\n",
            "/usr/local/lib/python3.10/dist-packages/autosklearn/data/target_validator.py:187: UserWarning: Fitting transformer with a pandas series which has the dtype category. Inverse transform may not be able preserve dtype when converting to np.ndarray\n",
            "  warnings.warn(\n",
            "Fitting to the training data: 100%|\u001b[32m██████████\u001b[0m| 300/300 [04:50<00:00,  1.03it/s, The total time budget for this task is 0:05:00]\n",
            "/usr/local/lib/python3.10/dist-packages/autosklearn/data/target_validator.py:187: UserWarning: Fitting transformer with a pandas series which has the dtype category. Inverse transform may not be able preserve dtype when converting to np.ndarray\n",
            "  warnings.warn(\n",
            "Fitting to the training data: 100%|\u001b[32m██████████\u001b[0m| 300/300 [04:56<00:00,  1.01it/s, The total time budget for this task is 0:05:00]\n",
            "/usr/local/lib/python3.10/dist-packages/autosklearn/data/target_validator.py:187: UserWarning: Fitting transformer with a pandas series which has the dtype category. Inverse transform may not be able preserve dtype when converting to np.ndarray\n",
            "  warnings.warn(\n",
            "Fitting to the training data: 100%|\u001b[32m██████████\u001b[0m| 300/300 [05:00<00:00,  1.00s/it, The total time budget for this task is 0:05:00]\n"
          ]
        },
        {
          "output_type": "stream",
          "name": "stdout",
          "text": [
            "Cross-Validation Scores: [0.546875   0.54375    0.60625    0.59375    0.61755486]\n",
            "Mean CV Accuracy: 0.5816359717868338\n"
          ]
        }
      ]
    },
    {
      "cell_type": "code",
      "source": [],
      "metadata": {
        "id": "KI_l8m_qUAPD"
      },
      "execution_count": null,
      "outputs": []
    }
  ]
}